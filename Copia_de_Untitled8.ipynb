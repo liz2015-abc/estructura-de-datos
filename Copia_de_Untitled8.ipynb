{
  "nbformat": 4,
  "nbformat_minor": 0,
  "metadata": {
    "colab": {
      "provenance": [],
      "authorship_tag": "ABX9TyONZwz6DAcUZ6rCnQBiurSD",
      "include_colab_link": true
    },
    "kernelspec": {
      "name": "python3",
      "display_name": "Python 3"
    },
    "language_info": {
      "name": "python"
    }
  },
  "cells": [
    {
      "cell_type": "markdown",
      "metadata": {
        "id": "view-in-github",
        "colab_type": "text"
      },
      "source": [
        "<a href=\"https://colab.research.google.com/github/liz2015-abc/estructura-de-datos/blob/main/Copia_de_Untitled8.ipynb\" target=\"_parent\"><img src=\"https://colab.research.google.com/assets/colab-badge.svg\" alt=\"Open In Colab\"/></a>"
      ]
    },
    {
      "cell_type": "code",
      "source": [
        " import random\n",
        "\n",
        "# Función para simular la ruleta\n",
        "def simular_ruleta(apuesta):\n",
        "    numero_ruleta = random.randint(0, 36)\n",
        "\n",
        "    # Grupos\n",
        "    pares = [x for x in range(1, 37) if x % 2 == 0]\n",
        "    impares = [x for x in range(1, 37) if x % 2 != 0]\n",
        "    primera_docena = range(1, 13)\n",
        "    segunda_docena = range(13, 25)\n",
        "    tercera_docena = range(25, 37)\n",
        "\n",
        "    # Comparar el número de la ruleta con la apuesta\n",
        "    if numero_ruleta == apuesta:\n",
        "        resultado = \"¡Exacto! Ganaste con el número exacto.\"\n",
        "    elif apuesta in pares and numero_ruleta in pares:\n",
        "        resultado = \"¡Ganaste! El número generado es par.\"\n",
        "    elif apuesta in impares and numero_ruleta in impares:\n",
        "        resultado = \"¡Ganaste! El número generado es impar.\"\n",
        "    elif apuesta in primera_docena and numero_ruleta in primera_docena:\n",
        "        resultado = \"¡Ganaste! El número está en la primera docena.\"\n",
        "    elif apuesta in segunda_docena and numero_ruleta in segunda_docena:\n",
        "        resultado = \"¡Ganaste! El número está en la segunda docena.\"\n",
        "    elif apuesta in tercera_docena and numero_ruleta in tercera_docena:\n",
        "        resultado = \"¡Ganaste! El número está en la tercera docena.\"\n",
        "    else:\n",
        "        resultado = \"Perdiste, mejor suerte la próxima vez.\"\n",
        "\n",
        "    return numero_ruleta, resultado\n",
        "\n",
        "# Programa principal\n",
        "\n",
        "# Parte 2: Simulación de la ruleta\n",
        "apuesta = int(input(\"Ingresa el número de la ruleta al que apuestas (0-36): \"))\n",
        "numero_ruleta, resultado = simular_ruleta(apuesta)\n",
        "print(f\"El número generado por la ruleta es: {numero_ruleta}\")\n",
        "print(resultado)"
      ],
      "metadata": {
        "id": "bBRlgBv2AB-B"
      },
      "execution_count": null,
      "outputs": []
    },
    {
      "cell_type": "code",
      "source": [
        "# Función para calcular la resistencia total\n",
        "def calcular_resistencia_total(resistencias):\n",
        "    suma_directa = 0\n",
        "    resistencias_mayores_100 = []\n",
        "\n",
        "    for r in resistencias:\n",
        "        if r < 10 or (r >= 10 and r <= 100):\n",
        "            suma_directa += r\n",
        "        elif r > 100:\n",
        "            resistencias_mayores_100.append(r)\n",
        "\n",
        "    if resistencias_mayores_100:\n",
        "        # Cálculo de resistencias en paralelo para las mayores a 100\n",
        "        r_paralelo = sum([1/r for r in resistencias_mayores_100])\n",
        "        r_equivalente = 1 / r_paralelo\n",
        "        resistencia_total = suma_directa + r_equivalente\n",
        "    else:\n",
        "        resistencia_total = suma_directa\n",
        "\n",
        "    return resistencia_total\n",
        "\n",
        "# Programa principal\n",
        "\n",
        "# Parte 1: Calcular resistencia total\n",
        "# Pedimos al usuario que ingrese los valores de las resistencias separadas por espacios\n",
        "resistencias = [float(x) for x in input(\"Ingresa los valores de las resistencias separadas por espacios: \").split()]\n",
        "\n",
        "# Calculamos la resistencia total\n",
        "resistencia_total = calcular_resistencia_total(resistencias)\n",
        "\n",
        "# Mostramos el resultado\n",
        "print(f\"La resistencia total es: {resistencia_total} ohmios\")"
      ],
      "metadata": {
        "colab": {
          "base_uri": "https://localhost:8080/"
        },
        "id": "IjOgm0ACCTuM",
        "outputId": "6390460e-924c-4a1e-8180-ab3bf0c26e59"
      },
      "execution_count": 1,
      "outputs": [
        {
          "output_type": "stream",
          "name": "stdout",
          "text": [
            "Ingresa los valores de las resistencias separadas por espacios: 3 4 5\n",
            "La resistencia total es: 12.0 ohmios\n"
          ]
        }
      ]
    }
  ]
}