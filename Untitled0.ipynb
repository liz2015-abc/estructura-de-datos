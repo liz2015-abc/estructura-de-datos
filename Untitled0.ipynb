{
  "nbformat": 4,
  "nbformat_minor": 0,
  "metadata": {
    "colab": {
      "provenance": [],
      "authorship_tag": "ABX9TyMLmLV6HRcUSm/PUrLk8Tzw",
      "include_colab_link": true
    },
    "kernelspec": {
      "name": "python3",
      "display_name": "Python 3"
    },
    "language_info": {
      "name": "python"
    }
  },
  "cells": [
    {
      "cell_type": "markdown",
      "metadata": {
        "id": "view-in-github",
        "colab_type": "text"
      },
      "source": [
        "<a href=\"https://colab.research.google.com/github/liz2015-abc/estructura-de-datos/blob/main/Untitled0.ipynb\" target=\"_parent\"><img src=\"https://colab.research.google.com/assets/colab-badge.svg\" alt=\"Open In Colab\"/></a>"
      ]
    },
    {
      "cell_type": "code",
      "source": [
        "columnas = []\n",
        "for i in range(2):\n",
        "    filas = []\n",
        "    for j in range(2):\n",
        "        datos2 = int(input(\"Ingrese un dato de la matriz: \"))\n",
        "        filas.append(datos2)\n",
        "    columnas.append(filas)\n",
        "\n",
        "suma = 0\n",
        "for fila in columnas:\n",
        "    for datos2 in fila:\n",
        "        suma += datos2\n",
        "\n",
        "print(\"La suma de todos los valores de la matriz es:\", suma)"
      ],
      "metadata": {
        "colab": {
          "base_uri": "https://localhost:8080/"
        },
        "id": "Xj9ZSmo9LIRE",
        "outputId": "c23a3c70-3af9-4149-cd13-0aff07c50196"
      },
      "execution_count": 69,
      "outputs": [
        {
          "output_type": "stream",
          "name": "stdout",
          "text": [
            "Ingrese un dato de la matriz: 5\n",
            "Ingrese un dato de la matriz: 6\n",
            "Ingrese un dato de la matriz: 7\n",
            "Ingrese un dato de la matriz: 8\n",
            "La suma de todos los valores de la matriz es: 26\n"
          ]
        }
      ]
    },
    {
      "cell_type": "code",
      "source": [
        "b = []\n",
        "for filas in columnas:\n",
        "    for datos2 in filas:\n",
        "        b.append(datos2)\n",
        "\n",
        "print(max(b))"
      ],
      "metadata": {
        "id": "vNUBrRyqbgqd"
      },
      "execution_count": null,
      "outputs": []
    },
    {
      "cell_type": "code",
      "source": [
        "matriz=[]\n",
        "for _ in range(10):\n",
        "  dato= int(input(\"ingrese un dato de la matriz\"))\n",
        "  matriz.append(dato)\n",
        "\n",
        "mayores_a_50 = [num for num in matriz if num > 50]\n",
        "\n",
        "print(\"Números de la matriz mayores a 50:\", mayores_a_50)"
      ],
      "metadata": {
        "colab": {
          "base_uri": "https://localhost:8080/"
        },
        "id": "MHMCV0j5M1Pw",
        "outputId": "3938c5b8-0942-4ff0-ab61-1990de7e3186"
      },
      "execution_count": 73,
      "outputs": [
        {
          "output_type": "stream",
          "name": "stdout",
          "text": [
            "ingrese un dato de la matriz5\n",
            "ingrese un dato de la matriz6\n",
            "ingrese un dato de la matriz7\n",
            "ingrese un dato de la matriz55\n",
            "ingrese un dato de la matriz2\n",
            "ingrese un dato de la matriz1\n",
            "ingrese un dato de la matriz2\n",
            "ingrese un dato de la matriz3\n",
            "ingrese un dato de la matriz4\n",
            "ingrese un dato de la matriz5\n",
            "Números de la matriz mayores a 50: [55]\n"
          ]
        }
      ]
    }
  ]
}