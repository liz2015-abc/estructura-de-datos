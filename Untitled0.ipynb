{
  "nbformat": 4,
  "nbformat_minor": 0,
  "metadata": {
    "colab": {
      "provenance": [],
      "authorship_tag": "ABX9TyPAEQ+hlsazMN/mdnx6OXBM",
      "include_colab_link": true
    },
    "kernelspec": {
      "name": "python3",
      "display_name": "Python 3"
    },
    "language_info": {
      "name": "python"
    }
  },
  "cells": [
    {
      "cell_type": "markdown",
      "metadata": {
        "id": "view-in-github",
        "colab_type": "text"
      },
      "source": [
        "<a href=\"https://colab.research.google.com/github/liz2015-abc/estructura-de-datos/blob/main/Untitled0.ipynb\" target=\"_parent\"><img src=\"https://colab.research.google.com/assets/colab-badge.svg\" alt=\"Open In Colab\"/></a>"
      ]
    },
    {
      "cell_type": "code",
      "execution_count": 4,
      "metadata": {
        "colab": {
          "base_uri": "https://localhost:8080/"
        },
        "id": "U7mkfo_cNFyb",
        "outputId": "70a41095-08cc-4607-ce37-7cfe61e192ae"
      },
      "outputs": [
        {
          "output_type": "stream",
          "name": "stdout",
          "text": [
            "La suma de todos los valores de la matriz es: 19\n"
          ]
        }
      ],
      "source": [
        "#definir la matriz\n",
        "matriz = [\n",
        "    [3, 4,],\n",
        "    [1, 3,],\n",
        "    [2, 6,]\n",
        "    ]\n",
        "    # Sumar todos los valores de la matriz\n",
        "suma_total = sum(sum(fila) for fila in matriz)\n",
        "\n",
        "# Mostrar el resultado\n",
        "print(\"La suma de todos los valores de la matriz es:\", suma_total)\n"
      ]
    },
    {
      "cell_type": "code",
      "source": [
        "# Definir la matriz\n",
        "matriz = [\n",
        "    [2, 5, 7],\n",
        "    [8, 15, 9]\n",
        "]\n",
        "\n",
        "# Encontrar el valor máximo en la matriz\n",
        "valor_maximo = max(max(fila) for fila in matriz)\n",
        "\n",
        "# Mostrar el resultado\n",
        "print(\"El valor máximo en la matriz es:\", valor_maximo)\n"
      ],
      "metadata": {
        "colab": {
          "base_uri": "https://localhost:8080/"
        },
        "id": "VIEqQ3XbUZm7",
        "outputId": "0bf77938-bdfc-41e1-e969-6ce35d1d5338"
      },
      "execution_count": 3,
      "outputs": [
        {
          "output_type": "stream",
          "name": "stdout",
          "text": [
            "El valor máximo en la matriz es: 15\n"
          ]
        }
      ]
    },
    {
      "cell_type": "code",
      "source": [
        "# Definir la matriz\n",
        "matriz = [\n",
        "    [100, 25, 234],\n",
        "    [9, 98, 51],\n",
        "    [50, 49, 2]\n",
        "]\n",
        "\n",
        "# Filtrar los números mayores a 50 y guardarlos en una nueva lista\n",
        "mayores_a_50 = [num for fila in matriz for num in fila if num > 50]\n",
        "\n",
        "# Mostrar la nueva lista\n",
        "print(\"Números mayores a 50:\", mayores_a_50)"
      ],
      "metadata": {
        "colab": {
          "base_uri": "https://localhost:8080/"
        },
        "id": "ff5q-4buU--k",
        "outputId": "1db7cb92-cf9f-40c3-f847-446a6219b917"
      },
      "execution_count": 5,
      "outputs": [
        {
          "output_type": "stream",
          "name": "stdout",
          "text": [
            "Números mayores a 50: [100, 234, 98, 51]\n"
          ]
        }
      ]
    }
  ]
}